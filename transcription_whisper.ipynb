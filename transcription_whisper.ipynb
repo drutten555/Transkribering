{
 "cells": [
  {
   "cell_type": "markdown",
   "metadata": {},
   "source": [
    "Start by transcribing something small; 5 minutes audio file took 6.5 minutes to run for me."
   ]
  },
  {
   "cell_type": "code",
   "execution_count": null,
   "metadata": {},
   "outputs": [],
   "source": [
    "import whisper\n",
    "\n",
    "def audioToText(audioPath, outputPath, initialPrompt):\n",
    "    model = whisper.load_model(\"base\") # choose tiny, base, small, medium, large\n",
    "\n",
    "    # transcribe audio\n",
    "    result = model.transcribe(audioPath, fp16=False,\n",
    "                              language=\"sv\",\n",
    "                              task=\"transcribe\",\n",
    "                              temperature=0.4,\n",
    "                              best_of=2, # number of candidates to consider\n",
    "                              initial_prompt=initialPrompt\n",
    "                             )\n",
    "\n",
    "    # write transcribed text to file\n",
    "    with open(outputPath, \"w\") as file:\n",
    "        file.write(result[\"text\"])\n",
    "\n",
    "audioFilepath = \"data/AUDIOFILE.mp3\"\n",
    "textFilepath = \"data/TRANSCRIPTION.txt\"\n",
    "\n",
    "audioToText(audioFilepath, textFilepath, initialPrompt = \"Den här ljudfilen handlar om...\")"
   ]
  },
  {
   "cell_type": "markdown",
   "metadata": {},
   "source": [
    "Now that we have our transcription, lets use a GPT to improve and/or summarize. More stuff can be added later."
   ]
  },
  {
   "cell_type": "code",
   "execution_count": 1,
   "metadata": {},
   "outputs": [],
   "source": [
    "from openai import OpenAI\n",
    "import os \n",
    "\n",
    "client = OpenAI() # defaults to getting the key using os.environ.get(\"OPENAI_API_KEY\")\n",
    "MODEL = \"gpt-3.5-turbo\""
   ]
  },
  {
   "cell_type": "code",
   "execution_count": 2,
   "metadata": {},
   "outputs": [],
   "source": [
    "def readText(filePath):\n",
    "    with open(filePath, 'r') as file:\n",
    "        return file.read()\n",
    "\n",
    "def writeText(filePath, content):\n",
    "    with open(filePath, 'w') as file:\n",
    "        file.write(content)\n",
    "\n",
    "def manageText(text, todo):\n",
    "    if todo not in ['summarize', 'improve']:\n",
    "        raise ValueError(f\"Invalid input value: {todo}. Must be 'summarize' or 'improve'\")\n",
    "    \n",
    "    match todo:\n",
    "        case 'summarize':\n",
    "            messages=[\n",
    "                {\"role\": \"system\", \"content\": \"You are a helpful assistant who specializes in summarizing transcribed text in Swedish.\"},\n",
    "                {\"role\": \"user\", \"content\": f\"The following text is a transcription from spoken Swedish. Can you summarize this text:\\n\\n{text}\"}\n",
    "            ]\n",
    "        case 'improve':\n",
    "             messages=[\n",
    "                {\"role\": \"system\", \"content\": \"You are a helpful assistant who specializes in improving transcribed text in Swedish.\"},\n",
    "                {\"role\": \"user\", \"content\": f\"The following text is a transcription from spoken Swedish. Can you improve this text:\\n\\n{text}\"}\n",
    "            ]\n",
    "    \n",
    "    response = client.chat.completions.create(\n",
    "        model=MODEL,\n",
    "        messages=messages,\n",
    "        max_tokens=1024,\n",
    "        temperature=0.7\n",
    "    )\n",
    "    return response.choices[0].message.content"
   ]
  },
  {
   "cell_type": "code",
   "execution_count": null,
   "metadata": {},
   "outputs": [],
   "source": [
    "improvedFile = 'data/TRANSCRIPTIONimproved.txt'\n",
    "summarizedFile = 'data/TRANSCRIPTIONsummarized.txt'\n",
    "\n",
    "improvedText = manageText(readText(textFilepath), 'improve')\n",
    "summarizedText = manageText(readText(textFilepath), 'summarize')\n",
    "\n",
    "# write the improved text\n",
    "writeText(improvedFile, improvedText)\n",
    "print(f\"Improved text written to {improvedFile}.\")\n",
    "\n",
    "# write the summarized text\n",
    "writeText(summarizedFile, summarizedText)\n",
    "print(f\"Summarized text written to {summarizedFile}.\")"
   ]
  }
 ],
 "metadata": {
  "kernelspec": {
   "display_name": ".venv",
   "language": "python",
   "name": "python3"
  },
  "language_info": {
   "codemirror_mode": {
    "name": "ipython",
    "version": 3
   },
   "file_extension": ".py",
   "mimetype": "text/x-python",
   "name": "python",
   "nbconvert_exporter": "python",
   "pygments_lexer": "ipython3",
   "version": "3.12.4"
  }
 },
 "nbformat": 4,
 "nbformat_minor": 2
}
