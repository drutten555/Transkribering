{
 "cells": [
  {
   "cell_type": "code",
   "execution_count": 1,
   "metadata": {},
   "outputs": [],
   "source": [
    "from openai import OpenAI\n",
    "import os \n",
    "\n",
    "client = OpenAI() # defaults to getting the key using os.environ.get(\"OPENAI_API_KEY\")\n",
    "MODEL = \"gpt-4o-mini\""
   ]
  },
  {
   "cell_type": "code",
   "execution_count": 3,
   "metadata": {},
   "outputs": [],
   "source": [
    "# read text from a file\n",
    "def readText(filePath):\n",
    "    with open(filePath, 'r') as file:\n",
    "        return file.read()\n",
    "\n",
    "# write text to a file\n",
    "def writeText(filePath, content):\n",
    "    with open(filePath, 'w') as file:\n",
    "        file.write(content)\n",
    "\n",
    "# manage text using gpt\n",
    "def manageText(text, todo):\n",
    "    \n",
    "    match todo:\n",
    "        case 'summarize':\n",
    "            messages=[\n",
    "                {\"role\": \"system\", \"content\": \"You are a helpful assistant who specializes in summarizing transcribed text in Swedish.\"},\n",
    "                {\"role\": \"user\", \"content\": f\"The following text is a transcription from spoken Swedish. Can you summarize this text:\\n\\n{text}\"}\n",
    "            ]\n",
    "        case 'improve':\n",
    "             messages=[\n",
    "                {\"role\": \"system\", \"content\": \"You are a helpful assistant who specializes in improving transcribed text in Swedish.\"},\n",
    "                {\"role\": \"user\", \"content\": f\"The following text is a transcription from spoken Swedish. Improve this text with respect to misspellings, grammar and such:\\n\\n{text}\"}\n",
    "            ]\n",
    "        case 'actionpoints':\n",
    "            messages=[\n",
    "                {\"role\": \"system\", \"content\": \"You are a helpful assistant who specializes in taking out action points from transcribed text in Swedish.\"},\n",
    "                {\"role\": \"user\", \"content\": f\"The following text is a transcription from spoken Swedish. Take out all action points involving upcoming things to do: \\n\\n{text}\"}\n",
    "            ]\n",
    "        case 'template':\n",
    "            messages=[\n",
    "                {\"role\": \"system\", \"content\": \"You are a helpful assistant who specializes in filling out a template of meeting notes from transcribed meeting text in Swedish. Here is the template: Mötesprotokoll Datum: Tid: Plats: Närvarande: Agenda: Introduktion och syfte med mötet Presentation av de fyra projekten Diskussion om arbetsmetoder och verktyg Fördelning av arbetsuppgifter (“att göra”-punkter) Övriga frågor Protokoll: 1. Introduktion och syfte med mötet 2. Presentation av de fyra projekten 3. Diskussion om arbetsmetoder och verktyg 4. Fördelning av arbetsuppgifter (“att göra”-punkter) 5. Övriga frågor Nästa möte: Mötesprotokoll fört av:\"},\n",
    "                {\"role\": \"user\", \"content\": f\"The following text is a transcription from spoken Swedish. Fill out the provided meeting template using the content of the meeting: \\n\\n{text}\"}\n",
    "            ]\n",
    "    \n",
    "    response = client.chat.completions.create(\n",
    "        model=MODEL,\n",
    "        messages=messages,\n",
    "        temperature=0.7\n",
    "    )\n",
    "    return response.choices[0].message.content"
   ]
  },
  {
   "cell_type": "code",
   "execution_count": 4,
   "metadata": {},
   "outputs": [
    {
     "name": "stdout",
     "output_type": "stream",
     "text": [
      "Action points written to data/ITeamSmallAP.txt.\n"
     ]
    }
   ],
   "source": [
    "textFilepath = input(\n",
    "        'Provide the path of the file you want to use.\\n\\n' +\n",
    "        'Input: '\n",
    "    )\n",
    "\n",
    "selection = input(\n",
    "        'What do you want to do?\\n' +\n",
    "        '(1) Improve provided text. \\n' +\n",
    "        '(2) Summarize text. \\n' +\n",
    "        '(3) Obtain action points. \\n' +\n",
    "        '(4) Get template-based-notes.\\n\\n' +\n",
    "        'Input: '\n",
    "    )\n",
    "    \n",
    "match selection:\n",
    "    case '1':\n",
    "        improvedFile = input(\n",
    "            \"Provide the path for the output .txtfile of the improved text. Input: \\n\\n\"\n",
    "        )\n",
    "        improvedText = manageText(readText(textFilepath), 'improve')\n",
    "        writeText(improvedFile, improvedText)\n",
    "        print(f\"Improved text written to {improvedFile}.\")\n",
    "    case '2':\n",
    "        summarizedFile = input(\n",
    "            \"Provide the path for the output .txtfile of the summarized text. Input: \\n\\n\"\n",
    "        )\n",
    "        summarizedText = manageText(readText(textFilepath), 'summarize')\n",
    "        writeText(summarizedFile, summarizedText)\n",
    "        print(f\"Summarized text written to {summarizedFile}.\")\n",
    "    case '3':\n",
    "        actionpointsFile = input(\n",
    "            \"Provide the path for the output .txtfile of the action points. Input: \\n\\n\"\n",
    "        )\n",
    "        actionpointsText = manageText(readText(textFilepath), 'actionpoints')\n",
    "        writeText(actionpointsFile, actionpointsText)\n",
    "        print(f\"Action points written to {actionpointsFile}.\")\n",
    "    case '4': # improvement: add input of template to use, use that in the system prompt\n",
    "        templateFile = input(\n",
    "            \"Provide the path for the output .txtfile of the template-based notes. Input: \\n\\n\"\n",
    "        )\n",
    "        templateText = manageText(readText(textFilepath), 'template')\n",
    "        writeText(templateFile, templateText)\n",
    "        print(f\"Template filled out in {templateFile}.\")\n",
    "    case _:\n",
    "        print('You didn\\'t pick a valid option. Terminating...')\n",
    "        exit()"
   ]
  }
 ],
 "metadata": {
  "kernelspec": {
   "display_name": ".venv",
   "language": "python",
   "name": "python3"
  },
  "language_info": {
   "codemirror_mode": {
    "name": "ipython",
    "version": 3
   },
   "file_extension": ".py",
   "mimetype": "text/x-python",
   "name": "python",
   "nbconvert_exporter": "python",
   "pygments_lexer": "ipython3",
   "version": "3.12.4"
  }
 },
 "nbformat": 4,
 "nbformat_minor": 2
}
